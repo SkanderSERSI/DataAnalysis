{
 "cells": [
  {
   "cell_type": "markdown",
   "metadata": {},
   "source": [
    "**Indiquer dans la boîte ci-dessous vos noms et prénoms**"
   ]
  },
  {
   "cell_type": "markdown",
   "metadata": {},
   "source": [
    "Nom: SERSI Prénom: Skander"
   ]
  },
  {
   "cell_type": "markdown",
   "metadata": {},
   "source": [
    "# Prédiction du gagnant d'un matche."
   ]
  },
  {
   "cell_type": "markdown",
   "metadata": {
    "collapsed": true
   },
   "source": [
    "## Partie 1 - Description du problème"
   ]
  },
  {
   "cell_type": "markdown",
   "metadata": {},
   "source": [
    "Nous cherchons à prédire les matches du championnat espagnol de la saison 2015/2016.\n",
    "Nous allons donc entrainer notre modèle sur les matches d'avant de 2008 à 2015.\n"
   ]
  },
  {
   "cell_type": "markdown",
   "metadata": {},
   "source": [
    "Notre idée est de prédire les scores des matches selon la somme totale des scores d'attaques de chaque joueur de chaque équipe jouant un matche. Les scores d'attaque de l'équipe à domicile et l'équipe visiteuse constituent les coordonnées de nos points.\n",
    "Si le matche est gagné par l'équipe à domicile le label associé est 1, si c'est l'équipe visiteuse qui gagne le label sera -1."
   ]
  },
  {
   "cell_type": "markdown",
   "metadata": {},
   "source": [
    "Nous allons utiliser l'algorithme du Perceptron, du KernelPerceptron, du RandomClassifier ainsi que celui des arbres de décision."
   ]
  },
  {
   "cell_type": "markdown",
   "metadata": {},
   "source": [
    "Et on cherche aussi à trouver quel est l'algo qui nous corrrespond le mieux pour nos prédictions."
   ]
  },
  {
   "cell_type": "markdown",
   "metadata": {},
   "source": [
    "## Partie 2 - Modèle"
   ]
  },
  {
   "cell_type": "markdown",
   "metadata": {},
   "source": [
    "Base d'apprentissage des matches du championnat espagnol d'avant la saison 2015/2016 en enlevant les matches nuls.\n",
    "Base de test des matches du championnat espagnol de la saison 2015/2016 en enlevant les matches nuls."
   ]
  },
  {
   "cell_type": "markdown",
   "metadata": {},
   "source": [
    "## Partie 3 - Code"
   ]
  },
  {
   "cell_type": "code",
   "execution_count": 2,
   "metadata": {
    "collapsed": true
   },
   "outputs": [],
   "source": [
    "import pandas as pd\n",
    "import numpy as np\n",
    "from scipy.stats.kde import gaussian_kde\n",
    "from scipy.stats import norm\n",
    "from numpy import linspace,hstack\n",
    "from pylab import plot,show,hist\n",
    "import matplotlib.pyplot as plt\n",
    "import random\n",
    "import warnings; \n",
    "%matplotlib inline"
   ]
  },
  {
   "cell_type": "code",
   "execution_count": 3,
   "metadata": {
    "collapsed": true
   },
   "outputs": [],
   "source": [
    "#lecture de la base des matches et selection des matches avant 2015/2016 correspondants à la ligue espagnole\n",
    "#Cette base correspond à notre base d'apprentissage\n",
    "data_Matche = pd.read_csv(\"projet/match.csv\")\n",
    "training_data = data_Matche.loc[data_Matche['season'] != '2015/2016']\n",
    "training_data = training_data.loc[training_data['league_id'] == 21518]\n",
    "training_data = training_data.dropna(subset = ['home_team_api_id','away_team_api_id','home_team_goal','away_team_goal','home_player_1','home_player_2','home_player_3','home_player_4','home_player_5','home_player_6','home_player_7','home_player_8','home_player_9','home_player_10','home_player_11','away_player_1','away_player_2','away_player_3','away_player_4','away_player_5','away_player_6','away_player_7','away_player_8','away_player_9','away_player_10','away_player_11'])\n",
    "\n"
   ]
  },
  {
   "cell_type": "code",
   "execution_count": 4,
   "metadata": {
    "collapsed": true
   },
   "outputs": [],
   "source": [
    "#lecture de la base des matches et selection des matches de la saison 2015/2016 correspondants à la ligue espagnole\n",
    "#cette base correspond à notre base de test.\n",
    "testing_data = data_Matche.loc[data_Matche['season'] == '2015/2016']\n",
    "testing_data = testing_data.loc[testing_data['league_id'] == 21518]\n",
    "test = testing_data.dropna(subset = ['home_team_api_id','away_team_api_id','home_team_goal','away_team_goal','home_player_1','home_player_2','home_player_3','home_player_4','home_player_5','home_player_6','home_player_7','home_player_8','home_player_9','home_player_10','home_player_11','away_player_1','away_player_2','away_player_3','away_player_4','away_player_5','away_player_6','away_player_7','away_player_8','away_player_9','away_player_10','away_player_11'])"
   ]
  },
  {
   "cell_type": "code",
   "execution_count": 5,
   "metadata": {
    "collapsed": true
   },
   "outputs": [],
   "source": [
    "#Selection des attributs des joueurs\n",
    "data_Player = pd.read_csv(\"projet/playerattributes.csv\")\n",
    "data_Player = data_Player.dropna(subset = ['finishing'])"
   ]
  },
  {
   "cell_type": "code",
   "execution_count": 6,
   "metadata": {
    "collapsed": true
   },
   "outputs": [],
   "source": [
    "class LabeledSet:  \n",
    "    \n",
    "    def __init__(self, input_dimension):\n",
    "        self.input_dimension = input_dimension\n",
    "        self.nb_examples = 0\n",
    "    \n",
    "    def addExample(self, vector, label):\n",
    "        if (self.nb_examples == 0):\n",
    "            self.x = np.array([vector])\n",
    "            self.y = np.array([label])\n",
    "        else:\n",
    "            self.x = np.vstack((self.x,vector))\n",
    "            self.y = np.vstack((self.y,label))\n",
    "        \n",
    "        self.nb_examples = self.nb_examples + 1\n",
    "    \n",
    "    #Renvoie la dimension de l'espace d'entrée\n",
    "    def getInputDimension(self):\n",
    "        return self.input_dimension\n",
    "        \n",
    "    #Renvoie le nombre d'exemples dans le set\n",
    "    def size(self):\n",
    "        return self.nb_examples\n",
    "    \n",
    "    #Renvoie la valeur de x_i\n",
    "    def getX(self, i):\n",
    "        return self.x[i]\n",
    "            \n",
    "    #Renvoie la valeur de y_i\n",
    "    def getY(self, i):\n",
    "        return self.y[i]"
   ]
  },
  {
   "cell_type": "code",
   "execution_count": 7,
   "metadata": {
    "collapsed": true
   },
   "outputs": [],
   "source": [
    "class Classifier:\n",
    "    def __init__(self, input_dimension):\n",
    "        raise NotImplementedError(\"Please Implement this method\")\n",
    "    \n",
    "    #Permet de calculer la prediction sur x => renvoie un score\n",
    "    def predict(self, x):\n",
    "        raise NotImplementedError(\"Please Implement this method\")\n",
    "    \n",
    "    #Permet d'entrainer le modele sur un ensemble de données\n",
    "    def train(self, labeledSet):\n",
    "        raise NotImplementedError(\"Please Implement this method\")\n",
    "    \n",
    "    #Permet de calculer la qualité du système \n",
    "    def accuracy(self, dataset):\n",
    "        nb_ok = 0\n",
    "        for i in range(dataset.size()):\n",
    "            output = self.predict(dataset.getX(i))\n",
    "            if (output * dataset.getY(i) > 0):\n",
    "                nb_ok = nb_ok + 1\n",
    "        acc = nb_ok /(dataset.size() * 1.0) \n",
    "        return acc"
   ]
  },
  {
   "cell_type": "code",
   "execution_count": 23,
   "metadata": {
    "collapsed": true
   },
   "outputs": [],
   "source": [
    "class Perceptron(Classifier):\n",
    "    \n",
    "    def __init__(self, input_dimension, learning_rate, nombre_iterations):\n",
    "        self.input_dimension=input_dimension\n",
    "        self.learning_rate=learning_rate\n",
    "        self.nombre_iterations=nombre_iterations\n",
    "        self.w=2*(np.random.rand(input_dimension))-1\n",
    "    \n",
    "    def train_1it(self, trainingData):\n",
    "        for i in range(trainingData.size()):\n",
    "                if self.predict(trainingData.getX(i))*trainingData.getY(i)<0:\n",
    "                    self.w=self.w+(self.learning_rate*trainingData.getY(i)*trainingData.getX(i))\n",
    "    \n",
    "    def compare(self, tab1,tab2):\n",
    "        for i in range(len(tab1)):\n",
    "            for j in range(len(tab2)):\n",
    "                if tab1[i]!=tab2[j]:\n",
    "                    return -1\n",
    "        return 1\n",
    "    \n",
    "    def train(self, trainingData):\n",
    "        tabk=[]\n",
    "        tabscore=[]\n",
    "        v=[0,0]\n",
    "        k=0\n",
    "        while self.compare(v,self.w)!=1 and k<self.nombre_iterations:\n",
    "            v=self.w\n",
    "            if k%10==0:\n",
    "                tabk.append(k)\n",
    "                tabscore.append(self.accuracy(trainingData))\n",
    "            self.train_1it(trainingData)\n",
    "            k = k + 1\n",
    "            \n",
    "        plt.plot(tabk, tabscore, 'ro')\n",
    "        plt.show()\n",
    "        \n",
    "    def predict(self, x):\n",
    "        z = np.dot(self.w,x)\n",
    "        if z > 0:\n",
    "            return +1\n",
    "        else:\n",
    "            return -1"
   ]
  },
  {
   "cell_type": "code",
   "execution_count": 24,
   "metadata": {
    "collapsed": true
   },
   "outputs": [],
   "source": [
    "class ClassifierRandom(Classifier):\n",
    "    def __init__(self, input_dimension):\n",
    "        self.input_dimension=input_dimension\n",
    "        self.w=np.random.randn(self.input_dimension)\n",
    "    \n",
    "    def predict (self,x):\n",
    "        return np.dot(x,self.w)"
   ]
  },
  {
   "cell_type": "code",
   "execution_count": 8,
   "metadata": {
    "collapsed": true
   },
   "outputs": [],
   "source": [
    "class PerceptronKernel(Classifier):\n",
    "    def __init__(self,dimension_kernel,learning_rate,kernel,nombre_iterations):\n",
    "        self.dimension_kernel = dimension_kernel\n",
    "        self.learning_rate = learning_rate\n",
    "        self.kernel = kernel\n",
    "        self.nombre_iterations = nombre_iterations \n",
    "        self.w = 2*(np.random.rand(dimension_kernel))-1\n",
    "        \n",
    "    def train_1it(self, trainingData):\n",
    "        for i in range(trainingData.size()):\n",
    "                if self.predict(trainingData.getX(i))*trainingData.getY(i)<0:\n",
    "                    self.w=self.w+(self.learning_rate*trainingData.getY(i)*(self.kernel.transform(trainingData.getX(i))))\n",
    "                                                                            \n",
    "    #Permet de calculer la prediction sur x => renvoie un score\n",
    "    def predict(self, x):\n",
    "        t=self.kernel.transform(x)\n",
    "        z = np.dot(t,self.w)\n",
    "        if z > 0:\n",
    "            return +1\n",
    "        else:\n",
    "            return -1\n",
    "\n",
    "    \n",
    "    #Permet d'entrainer le modele sur un ensemble de données\n",
    "    def train(self,labeledSet):\n",
    "        tabk=[]\n",
    "        tabscore=[]\n",
    "        #v=[0,0]\n",
    "        k=0\n",
    "        while k<self.nombre_iterations:\n",
    "            #v=self.w\n",
    "            if k%10==0:\n",
    "                tabk.append(k)\n",
    "                tabscore.append(self.accuracy(labeledSet))\n",
    "            self.train_1it(labeledSet)\n",
    "            k = k + 1\n",
    "            \n",
    "        plt.plot(tabk, tabscore, 'ro')\n",
    "        plt.show()\n",
    "\n",
    "    #Permet de calculer la qualité du système \n",
    "    def accuracy(self,dataset):\n",
    "        nb_ok = 0\n",
    "        for i in range(dataset.size()):\n",
    "            output = self.predict(dataset.getX(i))\n",
    "            if (output * dataset.getY(i) > 0):\n",
    "                nb_ok = nb_ok + 1\n",
    "        acc = nb_ok / (dataset.size() * 1.0)\n",
    "        return acc"
   ]
  },
  {
   "cell_type": "code",
   "execution_count": 9,
   "metadata": {
    "collapsed": true
   },
   "outputs": [],
   "source": [
    "import pprint\n",
    "\n",
    "def get_score_attack(player):\n",
    "    return data_Player.loc[data_Player['player_api_id'] == player,['finishing']].head(1)\n",
    "\n",
    "#retourne le score d'attaque d'une équipe donnée\n",
    "def get_score_attack_team(team):\n",
    "    \n",
    "    squad = pd.DataFrame(team).transpose()\n",
    "    \n",
    "    res = pd.DataFrame(columns = ['finishing'])\n",
    "    for i in squad[team.index[0]]:\n",
    "        \n",
    "        score = get_score_attack(int(i))\n",
    "        \n",
    "        res = res.append(score)\n",
    "        val =  res.sum().values[0]\n",
    "        return val\n",
    "\n",
    "def calcul_attack_score(dataframe):\n",
    "    # nbg : nombre de rencontres gagnées par les équipes gagnantes avec les scores d'attaques\n",
    "    nbg = 0\n",
    "    # nbp : nombre de rencontres perdues ou avec un matche nul par des équipes gagnantes au score d'attaque\n",
    "    nbp = 0\n",
    "    for i in dataframe.index:\n",
    "        score_attaque_equipe_home = get_score_attack_team(dataframe.loc[dataframe.index == i,['home_player_1','home_player_2','home_player_3','home_player_4','home_player_5','home_player_6','home_player_7','home_player_8','home_player_9','home_player_10','home_player_11']])\n",
    "        score_attaque_equipe_away = get_score_attack_team(dataframe.loc[dataframe.index == i,['away_player_1','away_player_2','away_player_3','away_player_4','away_player_5','away_player_6','away_player_7','away_player_8','away_player_9','away_player_10','away_player_11']])\n",
    "    return [score_attaque_equipe_home,score_attaque_equipe_away]"
   ]
  },
  {
   "cell_type": "code",
   "execution_count": 10,
   "metadata": {
    "collapsed": true
   },
   "outputs": [],
   "source": [
    "# Fonction qui nous renvoie un labeledset avec un dataframe donné\n",
    "def remplissage_ls(dataframe):\n",
    "    ls =  LabeledSet(2)\n",
    "    for i in dataframe.index:\n",
    "        ls.addExample(calcul_attack_score(dataframe.loc[dataframe.index == i]),winner(dataframe.loc[dataframe.index == i]))\n",
    "    return ls"
   ]
  },
  {
   "cell_type": "code",
   "execution_count": 11,
   "metadata": {
    "collapsed": true
   },
   "outputs": [],
   "source": [
    "def plot_frontiere(set, classifier, step=20):\n",
    "    mmax = set.x.max(0)\n",
    "    mmin = set.x.min(0)\n",
    "    x1grid, x2grid = np.meshgrid(np.linspace(mmin[0], mmax[0], step), np.linspace(mmin[1], mmax[1], step))\n",
    "    grid = np.hstack((x1grid.reshape(x1grid.size, 1), x2grid.reshape(x2grid.size, 1)))\n",
    "    \n",
    "    # calcul de la prediction pour chaque point de la grille\n",
    "    res = np.array([classifier.predict(grid[i,:]) for i in range(len(grid)) ])\n",
    "    res = res.reshape(x1grid.shape)\n",
    "    # tracé des frontieres\n",
    "    plt.contourf(x1grid, x2grid, res, colors=[\"red\", \"cyan\"], levels=[-1000,0,1000], linewidth=2)"
   ]
  },
  {
   "cell_type": "code",
   "execution_count": 12,
   "metadata": {
    "collapsed": true
   },
   "outputs": [],
   "source": [
    "# Permet d'afficher les figures directement dans le notebook:\n",
    "%matplotlib inline\n",
    "\n",
    "def plot2DSet(dataset):\n",
    "    plt.scatter(dataset.x[0:int(dataset.size()/2),0],dataset.x[0:int(dataset.size()/2),1],marker='o')\n",
    "    plt.scatter(dataset.x[int(dataset.size()/2):dataset.size(),0],dataset.x[int(dataset.size()/2):dataset.size(),1],marker='x')"
   ]
  },
  {
   "cell_type": "code",
   "execution_count": 41,
   "metadata": {},
   "outputs": [
    {
     "name": "stderr",
     "output_type": "stream",
     "text": [
      "C:\\Users\\Skander\\Anaconda3\\lib\\site-packages\\matplotlib\\contour.py:967: UserWarning: The following kwargs were not used by contour: 'linewidth'\n",
      "  s)\n"
     ]
    },
    {
     "data": {
      "image/png": "[encoded data removed]",
      "text/plain": [
       "<matplotlib.figure.Figure at 0x1fd862b5198>"
      ]
     },
     "metadata": {},
     "output_type": "display_data"
    }
   ],
   "source": []
  },
  {
   "cell_type": "code",
   "execution_count": 13,
   "metadata": {
    "collapsed": true
   },
   "outputs": [],
   "source": [
    "#nous renvoie le gagnant d'un matche\n",
    "def winner(dataframe):\n",
    "    #print('rentré')\n",
    "    if dataframe[\"home_team_goal\"].values[0] > dataframe[\"away_team_goal\"].values[0]:\n",
    "        return 1\n",
    "    else:\n",
    "        return -1\n"
   ]
  },
  {
   "cell_type": "code",
   "execution_count": 14,
   "metadata": {
    "collapsed": true
   },
   "outputs": [],
   "source": [
    "class KernelBias:\n",
    "    def transform(self,x):\n",
    "        l=list()\n",
    "        for i in range(len(x)):\n",
    "            l.append(x[i])\n",
    "        l.append(1)\n",
    "        return np.asarray(l)"
   ]
  },
  {
   "cell_type": "code",
   "execution_count": 17,
   "metadata": {
    "collapsed": true
   },
   "outputs": [],
   "source": [
    "#prof\n",
    "class KernelPoly:\n",
    "        def transform(self,x):\n",
    "            l= [1]\n",
    "            for i in range(len(x)):\n",
    "                l.append(x[i])\n",
    "            for i in range(len(x)):\n",
    "                for j in range(i,len(x)):\n",
    "                    l.append(x[i]*x[j])\n",
    "            return np.asarray(l)"
   ]
  },
  {
   "cell_type": "code",
   "execution_count": 29,
   "metadata": {
    "collapsed": true
   },
   "outputs": [],
   "source": [
    "import math as m\n",
    "def classe_majoritaire(labeledSet):\n",
    "    nbm=0\n",
    "    nbp=0\n",
    "    for i in range(labeledSet.size()):\n",
    "        if labeledSet.getY(i)==-1:\n",
    "            nbm+=1\n",
    "        else:\n",
    "            nbp+=1\n",
    "    if nbp>=nbm:\n",
    "        return 1\n",
    "    else:\n",
    "        return -1\n",
    "\n",
    "def shannon(l):\n",
    "    s=0\n",
    "    for i in range(len(l)):\n",
    "        if l[i]==0:\n",
    "            s= s + 0\n",
    "        else: \n",
    "            s= s + l[i]*m.log2(l[i])\n",
    "    return (-1)*s    \n",
    "\n",
    "def list_proba(labeledSet):\n",
    "    l =  list()\n",
    "    nbm = 0\n",
    "    nbp = 0\n",
    "    for i in range(labeledSet.size()):\n",
    "        if labeledSet.getY(i)==1:\n",
    "            nbp+=1\n",
    "        else:\n",
    "            nbm+=1\n",
    "    size=labeledSet.size();\n",
    "    if (labeledSet.size()==0):\n",
    "        size=1\n",
    "    l.append((nbp*100)/size/100)\n",
    "    l.append((nbm*100)/size/100)\n",
    "    return l\n",
    "\n",
    "def entropie(LabeledSet):\n",
    "        l=list_proba(LabeledSet)\n",
    "        return shannon(l)\n",
    "\n",
    "def discretise(LSet, col):\n",
    "    \"\"\" LabelledSet * int -> tuple[float, float]\n",
    "        col est le numéro de colonne sur X à discrétiser\n",
    "        rend la valeur de coupure qui minimise l'entropie ainsi que son entropie.\n",
    "    \"\"\"\n",
    "    # initialisation:\n",
    "    min_entropie = 1.1  # on met à une valeur max car on veut minimiser\n",
    "    min_seuil = 0.0     \n",
    "    # trie des valeurs:\n",
    "    ind= np.argsort(LSet.x,axis=0)\n",
    "    \n",
    "    # calcul des distributions des classes pour E1 et E2:\n",
    "    inf_plus  = 0               # nombre de +1 dans E1\n",
    "    inf_moins = 0               # nombre de -1 dans E1\n",
    "    sup_plus  = 0               # nombre de +1 dans E2\n",
    "    sup_moins = 0               # nombre de -1 dans E2       \n",
    "    # remarque: au départ on considère que E1 est vide et donc E2 correspond à E. \n",
    "    # Ainsi inf_plus et inf_moins valent 0. Il reste à calculer sup_plus et sup_moins \n",
    "    # dans E.\n",
    "    for j in range(0,LSet.size()):\n",
    "        if (LSet.getY(j) == -1):\n",
    "            sup_moins += 1\n",
    "        else:\n",
    "            sup_plus += 1\n",
    "    nb_total = (sup_plus + sup_moins) # nombre d'exemples total dans E\n",
    "    \n",
    "    # parcours pour trouver le meilleur seuil:\n",
    "    for i in range(len(LSet.x)-1):\n",
    "        v_ind_i = ind[i]   # vecteur d'indices\n",
    "        courant = LSet.getX(v_ind_i[col])[col]\n",
    "        lookahead = LSet.getX(ind[i+1][col])[col]\n",
    "        val_seuil = (courant + lookahead) / 2.0;\n",
    "        # M-A-J de la distrib. des classes:\n",
    "        # pour réduire les traitements: on retire un exemple de E2 et on le place\n",
    "        # dans E1, c'est ainsi que l'on déplace donc le seuil de coupure.\n",
    "        if LSet.getY(ind[i][col])[0] == -1:\n",
    "            inf_moins += 1\n",
    "            sup_moins -= 1\n",
    "        else:\n",
    "            inf_plus += 1\n",
    "            sup_plus -= 1\n",
    "        # calcul de la distribution des classes de chaque côté du seuil:\n",
    "        nb_inf = (inf_moins + inf_plus)*1.0     # rem: on en fait un float pour éviter\n",
    "        nb_sup = (sup_moins + sup_plus)*1.0     # que ce soit une division entière.\n",
    "        # calcul de l'entropie de la coupure\n",
    "        val_entropie_inf = shannon([inf_moins / nb_inf, inf_plus  / nb_inf])\n",
    "        val_entropie_sup = shannon([sup_moins / nb_sup, sup_plus  / nb_sup])\n",
    "        val_entropie = (nb_inf / nb_total) * val_entropie_inf + (nb_sup / nb_total) * val_entropie_sup\n",
    "        # si cette coupure minimise l'entropie, on mémorise ce seuil et son entropie:\n",
    "        if (min_entropie > val_entropie):\n",
    "            min_entropie = val_entropie\n",
    "            min_seuil = val_seuil\n",
    "    return (min_seuil, min_entropie)\n",
    "\n",
    "def divise(LSet, att, seuil):\n",
    "    Linf = LabeledSet(2)\n",
    "    Lsup = LabeledSet(2)\n",
    "    for i in range(LSet.size()):\n",
    "        if (LSet.getX(i)[att]<seuil):\n",
    "            Linf.addExample(LSet.getX(i), LSet.getY(i))\n",
    "        else:\n",
    "            Lsup.addExample(LSet.getX(i), LSet.getY(i))\n",
    "    return Linf,Lsup\n",
    "\n",
    "def construit_AD(Lset, epsilon):\n",
    "    arbre = ArbreBinaire()\n",
    "    if entropie(Lset) <= epsilon:\n",
    "        arbre.ajoute_feuille(classe_majoritaire(Lset))\n",
    "        return arbre\n",
    "    entropie_min = 1.0\n",
    "    seuil = .0\n",
    "    att = 0\n",
    "    for c in range(Lset.x.shape[1]):\n",
    "        s, ent = discretise(Lset, c)\n",
    "        if ent < entropie_min:\n",
    "            seuil = s\n",
    "            att = c\n",
    "            entropie_min = ent\n",
    "    Linf, Lsup = divise(Lset, att, seuil)\n",
    "    arbre.ajoute_fils(construit_AD(Linf, epsilon), construit_AD(Lsup, epsilon), att, seuil)\n",
    "    return arbre\n",
    "\n",
    "class ArbreDecision(Classifier):\n",
    "    # Constructeur\n",
    "    def __init__(self,epsilon):\n",
    "        # valeur seuil d'entropie pour arrêter la construction\n",
    "        self.epsilon= epsilon\n",
    "        self.racine = None\n",
    "    \n",
    "    # Permet de calculer la prediction sur x => renvoie un score\n",
    "    def predict(self,x):\n",
    "        # classification de l'exemple x avec l'arbre de décision\n",
    "        # on rend 0 (classe -1) ou 1 (classe 1)\n",
    "        classe = self.racine.classifie(x)\n",
    "        if (classe == 1):\n",
    "            return 1\n",
    "        else:\n",
    "            return -1\n",
    "    \n",
    "    # Permet d'entrainer le modele sur un ensemble de données\n",
    "    def train(self,setu):\n",
    "        # construction de l'arbre de décision \n",
    "        self.set=setu\n",
    "        self.racine = construit_AD(setu,self.epsilon)\n",
    "\n",
    "    # Permet d'afficher l'arbre\n",
    "    def plot(self):\n",
    "        gtree = gv.Digraph(format='png')\n",
    "        return self.racine.to_graph(gtree)\n",
    "        "
   ]
  },
  {
   "cell_type": "code",
   "execution_count": 30,
   "metadata": {
    "collapsed": true
   },
   "outputs": [],
   "source": [
    "import graphviz as gv\n",
    "\n",
    "class ArbreBinaire:\n",
    "    def __init__(self):\n",
    "        self.attribut = None   # numéro de l'attribut\n",
    "        self.seuil = None\n",
    "        self.inferieur = None # ArbreBinaire Gauche (valeurs <= au seuil)\n",
    "        self.superieur = None # ArbreBinaire Droit (valeurs > au seuil)\n",
    "        self.classe = None # Classe si c'est une feuille: -1 ou +1\n",
    "        \n",
    "    def est_feuille(self):\n",
    "        \"\"\" rend True si l'arbre est une feuille \"\"\"\n",
    "        return self.seuil == None\n",
    "    \n",
    "    def ajoute_fils(self,ABinf,ABsup,att,seuil):\n",
    "        \"\"\" ABinf, ABsup: 2 arbres binaires\n",
    "            att: numéro d'attribut\n",
    "            seuil: valeur de seuil\n",
    "        \"\"\"\n",
    "        self.attribut = att\n",
    "        self.seuil = seuil\n",
    "        self.inferieur = ABinf\n",
    "        self.superieur = ABsup\n",
    "    \n",
    "    def ajoute_feuille(self,classe):\n",
    "        \"\"\" classe: -1 ou + 1\n",
    "        \"\"\"\n",
    "        self.classe = classe\n",
    "        \n",
    "    # Permet d'afficher l'arbre\n",
    "    def plot(self):\n",
    "        gtree = gv.Digraph(format='png')\n",
    "        return self.to_graph(gtree)\n",
    "    \n",
    "    def classifie(self,exemple):\n",
    "        \"\"\" exemple : numpy.array\n",
    "            rend la classe de l'exemple: +1 ou -1\n",
    "        \"\"\"\n",
    "        if self.est_feuille():\n",
    "            #print(self.classe)\n",
    "            return self.classe\n",
    "        if exemple[self.attribut] <= self.seuil:\n",
    "            #print('gauche')\n",
    "            return self.inferieur.classifie(exemple)\n",
    "        #print('droite')\n",
    "        return self.superieur.classifie(exemple)\n",
    "    \n",
    "    def to_graph(self, g, prefixe='A'):\n",
    "        \"\"\" construit une représentation de l'arbre pour pouvoir\n",
    "            l'afficher\n",
    "        \"\"\"\n",
    "        if self.est_feuille():\n",
    "            g.node(prefixe,str(self.classe),shape='box')\n",
    "        else:\n",
    "            g.node(prefixe, str(self.attribut))\n",
    "            self.inferieur.to_graph(g,prefixe+\"g\")\n",
    "            self.superieur.to_graph(g,prefixe+\"d\")\n",
    "            g.edge(prefixe,prefixe+\"g\", '<='+ str(self.seuil))\n",
    "            g.edge(prefixe,prefixe+\"d\", '>'+ str(self.seuil))\n",
    "        \n",
    "        return g"
   ]
  },
  {
   "cell_type": "code",
   "execution_count": 31,
   "metadata": {
    "collapsed": true
   },
   "outputs": [],
   "source": [
    "class ClassifierBaggingTree(Classifier):\n",
    "    def __init__(self,nbArbres,ratio,seuil,r):\n",
    "        self.nbArbres = nbArbres\n",
    "        self.ratio = ratio\n",
    "        self.seuil = seuil\n",
    "        self.r = r\n",
    "        self.res = set()\n",
    "    \n",
    "    # Permet de calculer la prediction sur x => renvoie un score\n",
    "    def predict(self,x):\n",
    "        nbp = 0\n",
    "        nbm = 0\n",
    "        for elt in self.res:\n",
    "            \n",
    "            if(elt.classifie(x)) == 1:\n",
    "                nbp += 1\n",
    "                #print('hahaaa')\n",
    "            else:\n",
    "                #print('hihi')\n",
    "                nbm += 1\n",
    "        \n",
    "        if nbp>=nbm:\n",
    "            return 1\n",
    "        else:\n",
    "            return -1\n",
    "            \n",
    "\n",
    "    \n",
    "    # Permet d'entrainer le modele sur un ensemble de données étiquetés\n",
    "    def train(self,labeledSet):\n",
    "        for i in range(self.nbArbres):\n",
    "            #print(self.ratio,' size',labeledSet.size(),' -- ',int((self.ratio*labeledSet.size())))\n",
    "            E = echantillonLS(labeledSet,int(self.ratio*labeledSet.size()),self.r)\n",
    "            ad = construit_AD(E, self.seuil)\n",
    "            \n",
    "            self.res.add(ad)\n",
    "        return ad"
   ]
  },
  {
   "cell_type": "code",
   "execution_count": 33,
   "metadata": {
    "collapsed": true
   },
   "outputs": [],
   "source": [
    "# Fonction qui étant donné un LabeledSet X, un nombre entier m, et un booléen rend un échantillon de X de taille m sous la forme d'un LabeledSet.\n",
    "#L'échantillon est obtenu par un tirage avec remise si le booléen est True, sinon, il est obtenu sans remise.\n",
    "def echantillonLS(X,m,r):\n",
    "    LS = LabeledSet(2)\n",
    "    L= [i for i in range(0,X.size())]\n",
    "    L_choisis = tirage(L,m,r)\n",
    "    for i in L_choisis:\n",
    "        LS.addExample(X.getX(i),X.getY(i))\n",
    "    return LS"
   ]
  },
  {
   "cell_type": "code",
   "execution_count": 35,
   "metadata": {
    "collapsed": true
   },
   "outputs": [],
   "source": [
    "# Fonction qui  qui étant donné un vecteur d'entiers VX  qui représente l'ensemble des indices des exemples d'une base d'apprentissage  X , un entier  m , et un booléen  r\n",
    "# rend un vecteur de  m  indices choisis aléatoirement dans  VXVX . Si le booléen  rr  est vrai, le tirage s'effectue avec remise, sinon il s'effectue sans remise.\n",
    "def tirage(vx,m,r):\n",
    "    l = list()\n",
    "    if r==True:\n",
    "        for i in range(m):\n",
    "            l.append(random.choice(vx))\n",
    "    else:\n",
    "            l = random.sample(vx,m)\n",
    "    return l"
   ]
  },
  {
   "cell_type": "code",
   "execution_count": 42,
   "metadata": {
    "collapsed": true
   },
   "outputs": [],
   "source": [
    "# Divise un dataset en 10 parties pour la méthode out of bags\n",
    "def diviser_dataset(dataset):\n",
    "    indexes = [i for i in range(dataset.size())]\n",
    "    size = int(dataset.size()/10)\n",
    "    datasets = []\n",
    "    \n",
    "    for i in range(10):\n",
    "        echantillon = random.sample(indexes, size)\n",
    "        \n",
    "        d = LabeledSet(2)\n",
    "        for j in echantillon:\n",
    "            d.addExample(dataset.getX(j), dataset.getY(j))\n",
    "        datasets.append(d)\n",
    "        \n",
    "        indexes = list(set(indexes) - set(echantillon))\n",
    "    \n",
    "    return datasets\n",
    "\n",
    "datasets = diviser_dataset(ls_match)\n",
    "\n",
    "# Colle les 9 premiers labeledsets et les renvoie sous forme de labeledset\n",
    "def coller_data(datasets):\n",
    "    dataset =  LabeledSet(2)\n",
    "    for i in range(9):\n",
    "        for j in range(datasets[i].size()):\n",
    "            dataset.addExample(datasets[i].getX(j),datasets[i].getY(j))\n",
    "    return dataset\n"
   ]
  },
  {
   "cell_type": "markdown",
   "metadata": {},
   "source": [
    "## Partie 4 - Protocole expérimental"
   ]
  },
  {
   "cell_type": "code",
   "execution_count": 46,
   "metadata": {
    "collapsed": true
   },
   "outputs": [],
   "source": [
    "#On choisit deux équipes, on entraine notre modèle sur la base d'apprentissage des matches des deux équipes de 2008 à 2015.\n",
    "#1) on doit extraire de la base d'apprentissage les matches des deux équipes, et calculer pour chaque la moyenne des scores d'attaques\n",
    "# et la coordonnée x correspond au score d'attaque de l'équipe à domicile et y le score d'attaque de l'équipe visiteuse.\n",
    "import operator as operator\n",
    "#remplir dataset par équipe nous allons prendre les matches chelsea à domicile depuis 2008''\n",
    "train = training_data.loc[training_data['home_team_api_id'] == 8634]\n",
    "ls_match = remplissage_ls(train)\n",
    "\n",
    "#test = test.loc[training_data['away_team_api_id'] == 8634]\n",
    "ls_test  = remplissage_ls(test)\n"
   ]
  },
  {
   "cell_type": "code",
   "execution_count": 25,
   "metadata": {},
   "outputs": [
    {
     "data": {
      "image/png": "[encoded data removed]",
      "text/plain": [
       "<matplotlib.figure.Figure at 0x223005f76a0>"
      ]
     },
     "metadata": {},
     "output_type": "display_data"
    }
   ],
   "source": [
    "percnorm = Perceptron(2,0.0001,100)\n",
    "percnorm.train(ls_match)"
   ]
  },
  {
   "cell_type": "code",
   "execution_count": 20,
   "metadata": {},
   "outputs": [
    {
     "data": {
      "image/png": "[encoded data removed]",
      "text/plain": [
       "<matplotlib.figure.Figure at 0x223004467b8>"
      ]
     },
     "metadata": {},
     "output_type": "display_data"
    }
   ],
   "source": [
    "N=100\n",
    "k=KernelPoly()\n",
    "perc=PerceptronKernel(6,0.0001,k,N)\n",
    "perc.train(ls_match)"
   ]
  },
  {
   "cell_type": "markdown",
   "metadata": {},
   "source": [
    "## Partie 5 - Résultats"
   ]
  },
  {
   "cell_type": "code",
   "execution_count": 21,
   "metadata": {},
   "outputs": [
    {
     "name": "stderr",
     "output_type": "stream",
     "text": [
      "C:\\Users\\Skander\\Anaconda3\\lib\\site-packages\\matplotlib\\contour.py:967: UserWarning: The following kwargs were not used by contour: 'linewidth'\n",
      "  s)\n"
     ]
    },
    {
     "data": {
      "image/png": "[encoded data removed]",
      "text/plain": [
       "<matplotlib.figure.Figure at 0x2230046d358>"
      ]
     },
     "metadata": {},
     "output_type": "display_data"
    }
   ],
   "source": [
    "plot_frontiere(ls_test,perc,20)\n",
    "plot2DSet(ls_test)"
   ]
  },
  {
   "cell_type": "markdown",
   "metadata": {},
   "source": [
    "Nous allons  voir quel Perceptron est le mieux adapté pour notre model."
   ]
  },
  {
   "cell_type": "code",
   "execution_count": 26,
   "metadata": {},
   "outputs": [
    {
     "data": {
      "text/plain": [
       "0.5327635327635327"
      ]
     },
     "execution_count": 26,
     "metadata": {},
     "output_type": "execute_result"
    }
   ],
   "source": [
    "percnorm.accuracy(ls_test)"
   ]
  },
  {
   "cell_type": "code",
   "execution_count": 22,
   "metadata": {},
   "outputs": [
    {
     "data": {
      "text/plain": [
       "0.5641025641025641"
      ]
     },
     "execution_count": 22,
     "metadata": {},
     "output_type": "execute_result"
    }
   ],
   "source": [
    "perc.accuracy(ls_test)"
   ]
  },
  {
   "cell_type": "code",
   "execution_count": 27,
   "metadata": {},
   "outputs": [
    {
     "data": {
      "text/plain": [
       "0.47863247863247865"
      ]
     },
     "execution_count": 27,
     "metadata": {},
     "output_type": "execute_result"
    }
   ],
   "source": [
    "cr=ClassifierRandom(2)\n",
    "cr.accuracy(ls_test)"
   ]
  },
  {
   "cell_type": "code",
   "execution_count": 39,
   "metadata": {},
   "outputs": [
    {
     "name": "stdout",
     "output_type": "stream",
     "text": [
      "\n",
      "accuracy totale: 0.5384615384615384\n"
     ]
    }
   ],
   "source": [
    "foret = ClassifierBaggingTree(10,0.3,0.0,True)\n",
    "ad = foret.train(ls_match)\n",
    "\n",
    "print(\"\\naccuracy totale:\",foret.accuracy(ls_test))"
   ]
  },
  {
   "cell_type": "markdown",
   "metadata": {},
   "source": [
    "On en déduit que le KernelPoly est le mieux adapté pour notre modele."
   ]
  },
  {
   "cell_type": "markdown",
   "metadata": {},
   "source": [
    "## Partie 6 - Analyse"
   ]
  },
  {
   "cell_type": "code",
   "execution_count": 120,
   "metadata": {},
   "outputs": [
    {
     "data": {
      "image/png": "[encoded data removed]",
      "text/plain": [
       "<matplotlib.figure.Figure at 0x1fd800ea4a8>"
      ]
     },
     "metadata": {},
     "output_type": "display_data"
    },
    {
     "data": {
      "image/png": "[encoded data removed]",
      "text/plain": [
       "<matplotlib.figure.Figure at 0x1fd851ed9b0>"
      ]
     },
     "metadata": {},
     "output_type": "display_data"
    },
    {
     "data": {
      "image/png": "[encoded data removed]",
      "text/plain": [
       "<matplotlib.figure.Figure at 0x1fd80606e10>"
      ]
     },
     "metadata": {},
     "output_type": "display_data"
    },
    {
     "data": {
      "image/png": "[encoded data removed]",
      "text/plain": [
       "<matplotlib.figure.Figure at 0x1fd869abc88>"
      ]
     },
     "metadata": {},
     "output_type": "display_data"
    },
    {
     "data": {
      "image/png": "[encoded data removed]",
      "text/plain": [
       "<matplotlib.figure.Figure at 0x1fd86a2eda0>"
      ]
     },
     "metadata": {},
     "output_type": "display_data"
    },
    {
     "data": {
      "image/png": "[encoded data removed]",
      "text/plain": [
       "<matplotlib.figure.Figure at 0x1fd86a2ec50>"
      ]
     },
     "metadata": {},
     "output_type": "display_data"
    },
    {
     "data": {
      "image/png": "[encoded data removed]",
      "text/plain": [
       "<matplotlib.figure.Figure at 0x1fd86205940>"
      ]
     },
     "metadata": {},
     "output_type": "display_data"
    },
    {
     "data": {
      "image/png": "[encoded data removed]",
      "text/plain": [
       "<matplotlib.figure.Figure at 0x1fd81235a20>"
      ]
     },
     "metadata": {},
     "output_type": "display_data"
    },
    {
     "data": {
      "image/png": "[encoded data removed]",
      "text/plain": [
       "<matplotlib.figure.Figure at 0x1fd81268e10>"
      ]
     },
     "metadata": {},
     "output_type": "display_data"
    },
    {
     "data": {
      "image/png": "[encoded data removed]",
      "text/plain": [
       "<matplotlib.figure.Figure at 0x1fd8521acf8>"
      ]
     },
     "metadata": {},
     "output_type": "display_data"
    }
   ],
   "source": [
    "#Learning rate fixé à 0.02, nb itér variable\n",
    "perce_test_25_1 = Perceptron(2,0.02,25)\n",
    "perce_test_50_1 = Perceptron(2,0.02,50)\n",
    "perce_test_75_1 = Perceptron(2,0.02,75)\n",
    "perce_test_100_1 = Perceptron(2,0.02,100)\n",
    "perce_test_125_1 = Perceptron(2,0.02,125)\n",
    "\n",
    "#Nb itér fixé à 10 , learning rate variable\n",
    "perce_test_0_2 = Perceptron(2,0.02,10)\n",
    "perce_test_4_2 = Perceptron(2,0.05,10)\n",
    "perce_test_8_2 = Perceptron(2,0.07,10)\n",
    "perce_test_12_2 = Perceptron(2,0.10,10)\n",
    "perce_test_16_2 = Perceptron(2,0.12,10)\n",
    "\n",
    "#Train\n",
    "perce_test_25_1.train(ls_match)\n",
    "perce_test_50_1.train(ls_match)\n",
    "perce_test_75_1.train(ls_match)\n",
    "perce_test_100_1.train(ls_match)\n",
    "perce_test_125_1.train(ls_match)\n",
    "\n",
    "perce_test_0_2.train(ls_match)\n",
    "perce_test_4_2.train(ls_match)\n",
    "perce_test_8_2.train(ls_match)\n",
    "perce_test_12_2.train(ls_match)\n",
    "perce_test_16_2.train(ls_match)\n",
    "\n",
    "listAccuracy_test_perce_nbit = [perce_test_25_1.accuracy(ls_test), perce_test_50_1.accuracy(ls_test)\n",
    "                      ,perce_test_75_1.accuracy(ls_test)\n",
    "                      ,perce_test_100_1.accuracy(ls_test)\n",
    "                      ,perce_test_125_1.accuracy(ls_test)]\n",
    "\n",
    "listAccuracy_test_perce_learate = [perce_test_0_2.accuracy(ls_test), perce_test_4_2.accuracy(ls_test)\n",
    "                      ,perce_test_8_2.accuracy(ls_test)\n",
    "                      ,perce_test_12_2.accuracy(ls_test)\n",
    "                      ,perce_test_16_2.accuracy(ls_test)]"
   ]
  },
  {
   "cell_type": "code",
   "execution_count": 121,
   "metadata": {},
   "outputs": [
    {
     "data": {
      "image/png": "[encoded data removed]",
      "text/plain": [
       "<matplotlib.figure.Figure at 0x1fd811cf080>"
      ]
     },
     "metadata": {},
     "output_type": "display_data"
    }
   ],
   "source": [
    "plt.title(\"Accuracy en fonction de nb_iter,(learning_rate=0.02)(Perceptron)\")\n",
    "plt.plot([25,50,75,100,125],listAccuracy_test_perce_nbit)\n",
    "plt.xlabel('nb_iterations')\n",
    "plt.ylabel('Accuracy')\n",
    "plt.show()"
   ]
  },
  {
   "cell_type": "code",
   "execution_count": 122,
   "metadata": {},
   "outputs": [
    {
     "data": {
      "image/png": "[encoded data removed]",
      "text/plain": [
       "<matplotlib.figure.Figure at 0x1fd8694a940>"
      ]
     },
     "metadata": {},
     "output_type": "display_data"
    }
   ],
   "source": [
    "plt.title(\"Accuracy en fonction du learning rate,(nb_iteration=10)(Perceptron)\")\n",
    "plt.plot([0.02,0.05,0.07,0.10,0.12],listAccuracy_test_perce_learate)\n",
    "plt.xlabel('learning rate')\n",
    "plt.ylabel('Accuracy')\n",
    "plt.show()"
   ]
  },
  {
   "cell_type": "markdown",
   "metadata": {},
   "source": [
    "D'après nos resultat on a entre 53 et 55% de chance de prédire le l'équipe victorieuse d'un matche selon notre modèle."
   ]
  },
  {
   "cell_type": "markdown",
   "metadata": {},
   "source": [
    "Utilisons la méthode des out of bags  pour essayer d'obtenir une meilleure accuracy"
   ]
  },
  {
   "cell_type": "code",
   "execution_count": 44,
   "metadata": {},
   "outputs": [
    {
     "ename": "RecursionError",
     "evalue": "maximum recursion depth exceeded",
     "output_type": "error",
     "traceback": [
      "\u001b[1;31m---------------------------------------------------------------------------\u001b[0m",
      "\u001b[1;31mRecursionError\u001b[0m                            Traceback (most recent call last)",
      "\u001b[1;32m<ipython-input-44-439d9785f0fc>\u001b[0m in \u001b[0;36m<module>\u001b[1;34m()\u001b[0m\n\u001b[0;32m      5\u001b[0m \u001b[1;32mfor\u001b[0m \u001b[0mi\u001b[0m \u001b[1;32min\u001b[0m \u001b[0mnb_tree\u001b[0m\u001b[1;33m:\u001b[0m\u001b[1;33m\u001b[0m\u001b[0m\n\u001b[0;32m      6\u001b[0m     \u001b[0mforet\u001b[0m \u001b[1;33m=\u001b[0m \u001b[0mClassifierBaggingTree\u001b[0m\u001b[1;33m(\u001b[0m\u001b[0mi\u001b[0m\u001b[1;33m,\u001b[0m\u001b[1;36m0.3\u001b[0m\u001b[1;33m,\u001b[0m\u001b[1;36m0.0\u001b[0m\u001b[1;33m,\u001b[0m\u001b[1;32mTrue\u001b[0m\u001b[1;33m)\u001b[0m\u001b[1;33m\u001b[0m\u001b[0m\n\u001b[1;32m----> 7\u001b[1;33m     \u001b[0mforet\u001b[0m\u001b[1;33m.\u001b[0m\u001b[0mtrain\u001b[0m\u001b[1;33m(\u001b[0m\u001b[0mE\u001b[0m\u001b[1;33m)\u001b[0m\u001b[1;33m\u001b[0m\u001b[0m\n\u001b[0m\u001b[0;32m      8\u001b[0m     \u001b[0maccuracys_E_OOB\u001b[0m\u001b[1;33m.\u001b[0m\u001b[0mappend\u001b[0m\u001b[1;33m(\u001b[0m\u001b[0mforet\u001b[0m\u001b[1;33m.\u001b[0m\u001b[0maccuracy\u001b[0m\u001b[1;33m(\u001b[0m\u001b[0mE\u001b[0m\u001b[1;33m)\u001b[0m\u001b[1;33m)\u001b[0m\u001b[1;33m\u001b[0m\u001b[0m\n\u001b[0;32m      9\u001b[0m     \u001b[0maccuracys_F_OOB\u001b[0m\u001b[1;33m.\u001b[0m\u001b[0mappend\u001b[0m\u001b[1;33m(\u001b[0m\u001b[0mforet\u001b[0m\u001b[1;33m.\u001b[0m\u001b[0maccuracy\u001b[0m\u001b[1;33m(\u001b[0m\u001b[0mdatasets\u001b[0m\u001b[1;33m[\u001b[0m\u001b[1;36m9\u001b[0m\u001b[1;33m]\u001b[0m\u001b[1;33m)\u001b[0m\u001b[1;33m)\u001b[0m\u001b[1;33m\u001b[0m\u001b[0m\n",
      "\u001b[1;32m<ipython-input-31-8b6fac8bcfdc>\u001b[0m in \u001b[0;36mtrain\u001b[1;34m(self, labeledSet)\u001b[0m\n\u001b[0;32m     32\u001b[0m             \u001b[1;31m#print(self.ratio,' size',labeledSet.size(),' -- ',int((self.ratio*labeledSet.size())))\u001b[0m\u001b[1;33m\u001b[0m\u001b[1;33m\u001b[0m\u001b[0m\n\u001b[0;32m     33\u001b[0m             \u001b[0mE\u001b[0m \u001b[1;33m=\u001b[0m \u001b[0mechantillonLS\u001b[0m\u001b[1;33m(\u001b[0m\u001b[0mlabeledSet\u001b[0m\u001b[1;33m,\u001b[0m\u001b[0mint\u001b[0m\u001b[1;33m(\u001b[0m\u001b[0mself\u001b[0m\u001b[1;33m.\u001b[0m\u001b[0mratio\u001b[0m\u001b[1;33m*\u001b[0m\u001b[0mlabeledSet\u001b[0m\u001b[1;33m.\u001b[0m\u001b[0msize\u001b[0m\u001b[1;33m(\u001b[0m\u001b[1;33m)\u001b[0m\u001b[1;33m)\u001b[0m\u001b[1;33m,\u001b[0m\u001b[0mself\u001b[0m\u001b[1;33m.\u001b[0m\u001b[0mr\u001b[0m\u001b[1;33m)\u001b[0m\u001b[1;33m\u001b[0m\u001b[0m\n\u001b[1;32m---> 34\u001b[1;33m             \u001b[0mad\u001b[0m \u001b[1;33m=\u001b[0m \u001b[0mconstruit_AD\u001b[0m\u001b[1;33m(\u001b[0m\u001b[0mE\u001b[0m\u001b[1;33m,\u001b[0m \u001b[0mself\u001b[0m\u001b[1;33m.\u001b[0m\u001b[0mseuil\u001b[0m\u001b[1;33m)\u001b[0m\u001b[1;33m\u001b[0m\u001b[0m\n\u001b[0m\u001b[0;32m     35\u001b[0m \u001b[1;33m\u001b[0m\u001b[0m\n\u001b[0;32m     36\u001b[0m             \u001b[0mself\u001b[0m\u001b[1;33m.\u001b[0m\u001b[0mres\u001b[0m\u001b[1;33m.\u001b[0m\u001b[0madd\u001b[0m\u001b[1;33m(\u001b[0m\u001b[0mad\u001b[0m\u001b[1;33m)\u001b[0m\u001b[1;33m\u001b[0m\u001b[0m\n",
      "\u001b[1;32m<ipython-input-29-876bf334c94c>\u001b[0m in \u001b[0;36mconstruit_AD\u001b[1;34m(Lset, epsilon)\u001b[0m\n\u001b[0;32m    121\u001b[0m             \u001b[0mentropie_min\u001b[0m \u001b[1;33m=\u001b[0m \u001b[0ment\u001b[0m\u001b[1;33m\u001b[0m\u001b[0m\n\u001b[0;32m    122\u001b[0m     \u001b[0mLinf\u001b[0m\u001b[1;33m,\u001b[0m \u001b[0mLsup\u001b[0m \u001b[1;33m=\u001b[0m \u001b[0mdivise\u001b[0m\u001b[1;33m(\u001b[0m\u001b[0mLset\u001b[0m\u001b[1;33m,\u001b[0m \u001b[0matt\u001b[0m\u001b[1;33m,\u001b[0m \u001b[0mseuil\u001b[0m\u001b[1;33m)\u001b[0m\u001b[1;33m\u001b[0m\u001b[0m\n\u001b[1;32m--> 123\u001b[1;33m     \u001b[0marbre\u001b[0m\u001b[1;33m.\u001b[0m\u001b[0majoute_fils\u001b[0m\u001b[1;33m(\u001b[0m\u001b[0mconstruit_AD\u001b[0m\u001b[1;33m(\u001b[0m\u001b[0mLinf\u001b[0m\u001b[1;33m,\u001b[0m \u001b[0mepsilon\u001b[0m\u001b[1;33m)\u001b[0m\u001b[1;33m,\u001b[0m \u001b[0mconstruit_AD\u001b[0m\u001b[1;33m(\u001b[0m\u001b[0mLsup\u001b[0m\u001b[1;33m,\u001b[0m \u001b[0mepsilon\u001b[0m\u001b[1;33m)\u001b[0m\u001b[1;33m,\u001b[0m \u001b[0matt\u001b[0m\u001b[1;33m,\u001b[0m \u001b[0mseuil\u001b[0m\u001b[1;33m)\u001b[0m\u001b[1;33m\u001b[0m\u001b[0m\n\u001b[0m\u001b[0;32m    124\u001b[0m     \u001b[1;32mreturn\u001b[0m \u001b[0marbre\u001b[0m\u001b[1;33m\u001b[0m\u001b[0m\n\u001b[0;32m    125\u001b[0m \u001b[1;33m\u001b[0m\u001b[0m\n",
      "... last 1 frames repeated, from the frame below ...\n",
      "\u001b[1;32m<ipython-input-29-876bf334c94c>\u001b[0m in \u001b[0;36mconstruit_AD\u001b[1;34m(Lset, epsilon)\u001b[0m\n\u001b[0;32m    121\u001b[0m             \u001b[0mentropie_min\u001b[0m \u001b[1;33m=\u001b[0m \u001b[0ment\u001b[0m\u001b[1;33m\u001b[0m\u001b[0m\n\u001b[0;32m    122\u001b[0m     \u001b[0mLinf\u001b[0m\u001b[1;33m,\u001b[0m \u001b[0mLsup\u001b[0m \u001b[1;33m=\u001b[0m \u001b[0mdivise\u001b[0m\u001b[1;33m(\u001b[0m\u001b[0mLset\u001b[0m\u001b[1;33m,\u001b[0m \u001b[0matt\u001b[0m\u001b[1;33m,\u001b[0m \u001b[0mseuil\u001b[0m\u001b[1;33m)\u001b[0m\u001b[1;33m\u001b[0m\u001b[0m\n\u001b[1;32m--> 123\u001b[1;33m     \u001b[0marbre\u001b[0m\u001b[1;33m.\u001b[0m\u001b[0majoute_fils\u001b[0m\u001b[1;33m(\u001b[0m\u001b[0mconstruit_AD\u001b[0m\u001b[1;33m(\u001b[0m\u001b[0mLinf\u001b[0m\u001b[1;33m,\u001b[0m \u001b[0mepsilon\u001b[0m\u001b[1;33m)\u001b[0m\u001b[1;33m,\u001b[0m \u001b[0mconstruit_AD\u001b[0m\u001b[1;33m(\u001b[0m\u001b[0mLsup\u001b[0m\u001b[1;33m,\u001b[0m \u001b[0mepsilon\u001b[0m\u001b[1;33m)\u001b[0m\u001b[1;33m,\u001b[0m \u001b[0matt\u001b[0m\u001b[1;33m,\u001b[0m \u001b[0mseuil\u001b[0m\u001b[1;33m)\u001b[0m\u001b[1;33m\u001b[0m\u001b[0m\n\u001b[0m\u001b[0;32m    124\u001b[0m     \u001b[1;32mreturn\u001b[0m \u001b[0marbre\u001b[0m\u001b[1;33m\u001b[0m\u001b[0m\n\u001b[0;32m    125\u001b[0m \u001b[1;33m\u001b[0m\u001b[0m\n",
      "\u001b[1;31mRecursionError\u001b[0m: maximum recursion depth exceeded"
     ]
    }
   ],
   "source": [
    "nb_tree = [1,20,40,60,80,100]\n",
    "E = coller_data(datasets)\n",
    "accuracys_F_OOB = list()\n",
    "accuracys_E_OOB = list()\n",
    "for i in nb_tree:\n",
    "    foret = ClassifierBaggingTree(i,0.3,0.0,True) \n",
    "    foret.train(E)\n",
    "    accuracys_E_OOB.append(foret.accuracy(E))\n",
    "    accuracys_F_OOB.append(foret.accuracy(datasets[9]))\n",
    "plt.plot(nb_tree,accuracys_F_OOB)\n",
    "plt.plot(nb_tree,accuracys_E_OOB)\n",
    "plt.show()"
   ]
  }
 ],
 "metadata": {
  "kernelspec": {
   "display_name": "Python 3",
   "language": "python",
   "name": "python3"
  },
  "language_info": {
   "codemirror_mode": {
    "name": "ipython",
    "version": 3
   },
   "file_extension": ".py",
   "mimetype": "text/x-python",
   "name": "python",
   "nbconvert_exporter": "python",
   "pygments_lexer": "ipython3",
   "version": "3.6.3"
  }
 },
 "nbformat": 4,
 "nbformat_minor": 1
}
